{
 "cells": [
  {
   "cell_type": "code",
   "execution_count": 30,
   "metadata": {},
   "outputs": [],
   "source": [
    "import requests\n",
    "import selenium\n",
    "from selenium import webdriver \n",
    "from selenium.webdriver.chrome.service import Service\n",
    "import webdriver_manager\n",
    "from webdriver_manager.chrome import ChromeDriverManager\n",
    "from selenium.webdriver.support.ui import WebDriverWait\n",
    "from selenium.webdriver.support import expected_conditions as EC\n",
    "from selenium.webdriver.common.by import By\n",
    "\n",
    "from bs4 import BeautifulSoup\n",
    "import pandas as pd\n",
    "import numpy as np\n",
    "import json\n",
    "import re\n",
    "import tqdm\n",
    "from tqdm import tqdm\n"
   ]
  },
  {
   "cell_type": "code",
   "execution_count": null,
   "metadata": {},
   "outputs": [],
   "source": []
  },
  {
   "cell_type": "code",
   "execution_count": 35,
   "metadata": {},
   "outputs": [],
   "source": [
    "url = \"https://store.steampowered.com/charts/topselling/global\" \n",
    "driver = webdriver.Chrome(service=Service(ChromeDriverManager().install()))\n",
    "driver.get(url) \n"
   ]
  },
  {
   "cell_type": "code",
   "execution_count": null,
   "metadata": {},
   "outputs": [],
   "source": [
    "tbody_element = driver.find_element(By.TAG_NAME, \"tbody\")\n",
    "tbody_html = tbody_element.get_attribute(\"outerHTML\")\n",
    "soup = BeautifulSoup(tbody_html, 'html.parser')\n"
   ]
  },
  {
   "cell_type": "code",
   "execution_count": 41,
   "metadata": {},
   "outputs": [
    {
     "ename": "IndentationError",
     "evalue": "unexpected indent (4231471445.py, line 21)",
     "output_type": "error",
     "traceback": [
      "\u001b[1;36m  Cell \u001b[1;32mIn[41], line 21\u001b[1;36m\u001b[0m\n\u001b[1;33m    if link:\u001b[0m\n\u001b[1;37m    ^\u001b[0m\n\u001b[1;31mIndentationError\u001b[0m\u001b[1;31m:\u001b[0m unexpected indent\n"
     ]
    }
   ],
   "source": [
    "\n"
   ]
  },
  {
   "cell_type": "code",
   "execution_count": 49,
   "metadata": {},
   "outputs": [
    {
     "name": "stdout",
     "output_type": "stream",
     "text": [
      "Data saved to top_100_games.csv\n"
     ]
    }
   ],
   "source": [
    "app_ids = []\n",
    "ranks = []\n",
    "urls = []\n",
    "\n",
    "# Loop through each row in the <tbody> tag\n",
    "for row in soup.find_all('tr', class_=\"_2-RN6nWOY56sNmcDHu069P\"):\n",
    "    # Extract the rank\n",
    "    rank = row.find('td', class_=\"_34h48M_x9S-9Q2FFPX_CcU\").get_text(strip=True)\n",
    "    ranks.append(rank)\n",
    "    \n",
    "    # Extract the URL and app id\n",
    "    link = row.find('a', class_=\"_2C5PJOUH6RqyuBNEwaCE9X\")\n",
    "    if link:\n",
    "        url = link['href']\n",
    "        urls.append(url)\n",
    "        \n",
    "        # Extract app id from the URL using regex\n",
    "        app_id = re.search(r'/app/(\\d+)/', url)\n",
    "        app_ids.append(app_id.group(1) if app_id else None)\n",
    "\n",
    "# Create a DataFrame\n",
    "df_top_100 = pd.DataFrame({\n",
    "    'appid': app_ids,\n",
    "    'rank': ranks,\n",
    "    'url': urls\n",
    "})\n",
    "\n",
    "# Save the DataFrame to a CSV file\n",
    "df_top_100.to_csv(\"top_100_games.csv\", index=False)\n",
    "\n",
    "print(\"Data saved to top_100_games.csv\")"
   ]
  },
  {
   "cell_type": "code",
   "execution_count": 50,
   "metadata": {},
   "outputs": [
    {
     "data": {
      "text/html": [
       "<div>\n",
       "<style scoped>\n",
       "    .dataframe tbody tr th:only-of-type {\n",
       "        vertical-align: middle;\n",
       "    }\n",
       "\n",
       "    .dataframe tbody tr th {\n",
       "        vertical-align: top;\n",
       "    }\n",
       "\n",
       "    .dataframe thead th {\n",
       "        text-align: right;\n",
       "    }\n",
       "</style>\n",
       "<table border=\"1\" class=\"dataframe\">\n",
       "  <thead>\n",
       "    <tr style=\"text-align: right;\">\n",
       "      <th></th>\n",
       "      <th>appid</th>\n",
       "      <th>rank</th>\n",
       "      <th>url</th>\n",
       "    </tr>\n",
       "  </thead>\n",
       "  <tbody>\n",
       "    <tr>\n",
       "      <th>95</th>\n",
       "      <td>739630</td>\n",
       "      <td>96</td>\n",
       "      <td>https://store.steampowered.com/app/739630/Phas...</td>\n",
       "    </tr>\n",
       "    <tr>\n",
       "      <th>96</th>\n",
       "      <td>39210</td>\n",
       "      <td>97</td>\n",
       "      <td>https://store.steampowered.com/app/39210/FINAL...</td>\n",
       "    </tr>\n",
       "    <tr>\n",
       "      <th>97</th>\n",
       "      <td>306130</td>\n",
       "      <td>98</td>\n",
       "      <td>https://store.steampowered.com/app/306130/The_...</td>\n",
       "    </tr>\n",
       "    <tr>\n",
       "      <th>98</th>\n",
       "      <td>None</td>\n",
       "      <td>99</td>\n",
       "      <td>https://store.steampowered.com/sub/518699/?snr...</td>\n",
       "    </tr>\n",
       "    <tr>\n",
       "      <th>99</th>\n",
       "      <td>1966720</td>\n",
       "      <td>100</td>\n",
       "      <td>https://store.steampowered.com/app/1966720/Let...</td>\n",
       "    </tr>\n",
       "  </tbody>\n",
       "</table>\n",
       "</div>"
      ],
      "text/plain": [
       "      appid rank                                                url\n",
       "95   739630   96  https://store.steampowered.com/app/739630/Phas...\n",
       "96    39210   97  https://store.steampowered.com/app/39210/FINAL...\n",
       "97   306130   98  https://store.steampowered.com/app/306130/The_...\n",
       "98     None   99  https://store.steampowered.com/sub/518699/?snr...\n",
       "99  1966720  100  https://store.steampowered.com/app/1966720/Let..."
      ]
     },
     "execution_count": 50,
     "metadata": {},
     "output_type": "execute_result"
    }
   ],
   "source": [
    "df_top_100.tail()"
   ]
  },
  {
   "cell_type": "code",
   "execution_count": null,
   "metadata": {},
   "outputs": [],
   "source": []
  }
 ],
 "metadata": {
  "kaggle": {
   "accelerator": "none",
   "dataSources": [],
   "dockerImageVersionId": 30786,
   "isGpuEnabled": false,
   "isInternetEnabled": true,
   "language": "python",
   "sourceType": "notebook"
  },
  "kernelspec": {
   "display_name": "Python 3 (ipykernel)",
   "language": "python",
   "name": "python3"
  },
  "language_info": {
   "codemirror_mode": {
    "name": "ipython",
    "version": 3
   },
   "file_extension": ".py",
   "mimetype": "text/x-python",
   "name": "python",
   "nbconvert_exporter": "python",
   "pygments_lexer": "ipython3",
   "version": "3.9.13"
  }
 },
 "nbformat": 4,
 "nbformat_minor": 4
}
