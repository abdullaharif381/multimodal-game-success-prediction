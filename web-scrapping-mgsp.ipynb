{
 "cells": [
  {
   "cell_type": "code",
   "execution_count": 8,
   "metadata": {
    "execution": {
     "iopub.execute_input": "2024-10-27T10:08:51.715849Z",
     "iopub.status.busy": "2024-10-27T10:08:51.715354Z",
     "iopub.status.idle": "2024-10-27T10:08:51.722878Z",
     "shell.execute_reply": "2024-10-27T10:08:51.721450Z",
     "shell.execute_reply.started": "2024-10-27T10:08:51.715802Z"
    }
   },
   "outputs": [],
   "source": [
    "import os\n",
    "import requests\n",
    "import selenium\n",
    "from selenium import webdriver \n",
    "from selenium.webdriver.chrome.service import Service\n",
    "import webdriver_manager\n",
    "from webdriver_manager.chrome import ChromeDriverManager\n",
    "from selenium.webdriver.support.ui import WebDriverWait\n",
    "from selenium.webdriver.support import expected_conditions as EC\n",
    "from selenium.webdriver.common.by import By\n",
    "\n",
    "from bs4 import BeautifulSoup\n",
    "import pandas as pd\n",
    "import numpy as np\n",
    "import json\n",
    "import re\n",
    "import time\n",
    "import tqdm\n",
    "from tqdm import tqdm\n",
    "from concurrent.futures import ThreadPoolExecutor, as_completed\n"
   ]
  },
  {
   "cell_type": "code",
   "execution_count": 9,
   "metadata": {
    "execution": {
     "iopub.execute_input": "2024-10-27T10:10:09.885326Z",
     "iopub.status.busy": "2024-10-27T10:10:09.884847Z",
     "iopub.status.idle": "2024-10-27T10:10:09.893595Z",
     "shell.execute_reply": "2024-10-27T10:10:09.892211Z",
     "shell.execute_reply.started": "2024-10-27T10:10:09.885286Z"
    }
   },
   "outputs": [],
   "source": [
    "def get_AppList(version):\n",
    "    url = f\"https://api.steampowered.com/ISteamApps/GetAppList/{version}/\"\n",
    "    try:\n",
    "        r = requests.get(url)\n",
    "        r.raise_for_status()\n",
    "        data = r.json()\n",
    "        apps = data['applist']['apps']\n",
    "        if version == 'v2':\n",
    "            return apps            \n",
    "        else:\n",
    "            return apps['app']\n",
    "    except requests.exceptions.RequestException as e:\n",
    "        return None"
   ]
  },
  {
   "cell_type": "code",
   "execution_count": 10,
   "metadata": {
    "execution": {
     "iopub.execute_input": "2024-10-27T10:15:15.555621Z",
     "iopub.status.busy": "2024-10-27T10:15:15.555076Z",
     "iopub.status.idle": "2024-10-27T10:15:17.812479Z",
     "shell.execute_reply": "2024-10-27T10:15:17.811325Z",
     "shell.execute_reply.started": "2024-10-27T10:15:15.555572Z"
    }
   },
   "outputs": [],
   "source": [
    "v1 = 'v1'\n",
    "v2 = 'v2'\n",
    "\n",
    "apps = get_AppList(v1)\n",
    "df1 = pd.DataFrame(apps)\n",
    "\n",
    "apps = get_AppList(v2)\n",
    "df2 = pd.DataFrame(apps)\n",
    "\n",
    "app_ids_df = pd.concat([df1, df2], ignore_index=True).drop_duplicates(subset='appid')  \n",
    "app_ids_df.to_csv('all_steam_games.csv', index=False)"
   ]
  },
  {
   "cell_type": "code",
   "execution_count": 11,
   "metadata": {
    "execution": {
     "iopub.execute_input": "2024-10-27T10:15:24.867594Z",
     "iopub.status.busy": "2024-10-27T10:15:24.866673Z",
     "iopub.status.idle": "2024-10-27T10:15:24.880606Z",
     "shell.execute_reply": "2024-10-27T10:15:24.879170Z",
     "shell.execute_reply.started": "2024-10-27T10:15:24.867543Z"
    },
    "scrolled": true
   },
   "outputs": [
    {
     "data": {
      "text/html": [
       "<div>\n",
       "<style scoped>\n",
       "    .dataframe tbody tr th:only-of-type {\n",
       "        vertical-align: middle;\n",
       "    }\n",
       "\n",
       "    .dataframe tbody tr th {\n",
       "        vertical-align: top;\n",
       "    }\n",
       "\n",
       "    .dataframe thead th {\n",
       "        text-align: right;\n",
       "    }\n",
       "</style>\n",
       "<table border=\"1\" class=\"dataframe\">\n",
       "  <thead>\n",
       "    <tr style=\"text-align: right;\">\n",
       "      <th></th>\n",
       "      <th>appid</th>\n",
       "      <th>name</th>\n",
       "    </tr>\n",
       "  </thead>\n",
       "  <tbody>\n",
       "    <tr>\n",
       "      <th>219689</th>\n",
       "      <td>3133560</td>\n",
       "      <td>Demon Quest</td>\n",
       "    </tr>\n",
       "    <tr>\n",
       "      <th>219690</th>\n",
       "      <td>3230280</td>\n",
       "      <td>Horizons: The End Of Words</td>\n",
       "    </tr>\n",
       "    <tr>\n",
       "      <th>219691</th>\n",
       "      <td>738700</td>\n",
       "      <td>Secret of the Rendrasha Blade</td>\n",
       "    </tr>\n",
       "    <tr>\n",
       "      <th>219692</th>\n",
       "      <td>2435600</td>\n",
       "      <td>The Dark Tones: Loss</td>\n",
       "    </tr>\n",
       "    <tr>\n",
       "      <th>219693</th>\n",
       "      <td>2580020</td>\n",
       "      <td>THRESHOLD</td>\n",
       "    </tr>\n",
       "  </tbody>\n",
       "</table>\n",
       "</div>"
      ],
      "text/plain": [
       "          appid                           name\n",
       "219689  3133560                    Demon Quest\n",
       "219690  3230280     Horizons: The End Of Words\n",
       "219691   738700  Secret of the Rendrasha Blade\n",
       "219692  2435600           The Dark Tones: Loss\n",
       "219693  2580020                      THRESHOLD"
      ]
     },
     "execution_count": 11,
     "metadata": {},
     "output_type": "execute_result"
    }
   ],
   "source": [
    "app_ids_df.tail()"
   ]
  },
  {
   "cell_type": "code",
   "execution_count": 12,
   "metadata": {
    "execution": {
     "iopub.execute_input": "2024-10-27T10:10:12.379187Z",
     "iopub.status.busy": "2024-10-27T10:10:12.378715Z",
     "iopub.status.idle": "2024-10-27T10:10:12.391042Z",
     "shell.execute_reply": "2024-10-27T10:10:12.389778Z",
     "shell.execute_reply.started": "2024-10-27T10:10:12.379140Z"
    }
   },
   "outputs": [],
   "source": [
    "# df1.head()"
   ]
  },
  {
   "cell_type": "code",
   "execution_count": 13,
   "metadata": {
    "execution": {
     "iopub.execute_input": "2024-10-27T10:10:12.393855Z",
     "iopub.status.busy": "2024-10-27T10:10:12.392849Z",
     "iopub.status.idle": "2024-10-27T10:10:12.407264Z",
     "shell.execute_reply": "2024-10-27T10:10:12.405853Z",
     "shell.execute_reply.started": "2024-10-27T10:10:12.393791Z"
    }
   },
   "outputs": [],
   "source": [
    "# df2.head()"
   ]
  },
  {
   "cell_type": "code",
   "execution_count": 14,
   "metadata": {
    "execution": {
     "iopub.execute_input": "2024-10-27T10:21:46.681523Z",
     "iopub.status.busy": "2024-10-27T10:21:46.680432Z",
     "iopub.status.idle": "2024-10-27T10:21:46.688127Z",
     "shell.execute_reply": "2024-10-27T10:21:46.686708Z",
     "shell.execute_reply.started": "2024-10-27T10:21:46.681459Z"
    }
   },
   "outputs": [],
   "source": [
    "def get_AppData(url):\n",
    "    try:\n",
    "        response = requests.get(url)\n",
    "        soup = BeautifulSoup(response.text, 'lxml')\n",
    "        return soup\n",
    "    except Exception as e:\n",
    "        print(e)\n",
    "        return None"
   ]
  },
  {
   "cell_type": "code",
   "execution_count": 15,
   "metadata": {
    "execution": {
     "iopub.execute_input": "2024-10-27T10:10:12.419338Z",
     "iopub.status.busy": "2024-10-27T10:10:12.418952Z",
     "iopub.status.idle": "2024-10-27T10:10:12.434578Z",
     "shell.execute_reply": "2024-10-27T10:10:12.433355Z",
     "shell.execute_reply.started": "2024-10-27T10:10:12.419299Z"
    }
   },
   "outputs": [],
   "source": [
    "def find_general_details(soup):\n",
    "    \"\"\" \n",
    "        Input: soup (data of html)\n",
    "        Output: title, description, content and genre of the game\n",
    "    \"\"\"\n",
    "    \n",
    "    title = soup.find('div', class_='apphub_AppName').text if soup.find('div', class_='apphub_AppName') else None\n",
    "    description = soup.find('div', class_='game_description_snippet').text.strip() if soup.find('div', class_='game_description_snippet') else None\n",
    "    try:\n",
    "        content_div = soup.find('div', class_='shared_game_rating') \n",
    "        content = content_div.find('p').text.strip()\n",
    "    except Exception as e:\n",
    "        content = None\n",
    "    try:\n",
    "        genres = (soup.find('div', class_='details_block').find_all('a')) if soup.find('div', class_='details_block') else None\n",
    "        genre = [g.text for g in genres]  \n",
    "    except Exception as e: \n",
    "        genre = None   \n",
    "    try:\n",
    "        release_date = soup.find('div', class_='date').text.strip().replace(',', '')\n",
    "    except Exception as e:\n",
    "        release_date = None\n",
    "        \n",
    "    try:\n",
    "        tags_div = soup.find('div', class_='glance_tags popular_tags').find_all('a')\n",
    "        tags_all = [tag.text for tag in tags_div] if tags_div else None\n",
    "        tags_list = [item.strip() for item in tags_all]\n",
    "    except Exception as e:\n",
    "        tags_list = None\n",
    "        \n",
    "    try:\n",
    "        player = soup.find('a', class_='game_area_details_specs_ctn').find('div', class_='label').text.strip()\n",
    "    except Exception as e:\n",
    "        player = None\n",
    "        \n",
    "    return title, description, content, genre, player, tags_list, release_date"
   ]
  },
  {
   "cell_type": "code",
   "execution_count": 16,
   "metadata": {
    "execution": {
     "iopub.execute_input": "2024-10-27T10:10:13.079158Z",
     "iopub.status.busy": "2024-10-27T10:10:13.078693Z",
     "iopub.status.idle": "2024-10-27T10:10:13.091336Z",
     "shell.execute_reply": "2024-10-27T10:10:13.090039Z",
     "shell.execute_reply.started": "2024-10-27T10:10:13.079114Z"
    }
   },
   "outputs": [],
   "source": [
    "def extract_details(div, index):\n",
    "    \"\"\"Helper function to extract developer or publisher details.\"\"\"\n",
    "    try:\n",
    "        detail_div = div[index].find('div', class_='summary column')\n",
    "        link = detail_div.find('a').get('href')\n",
    "        name = detail_div.text.strip()\n",
    "        return link, name\n",
    "    except (AttributeError, IndexError) as e:\n",
    "        return None, None\n",
    "\n",
    "def fetch_followers(link):\n",
    "    \"\"\"Helper function to fetch followers from a link.\"\"\"\n",
    "    if not link:\n",
    "        return None\n",
    "    try:\n",
    "        soup = get_AppData(link)\n",
    "        return soup.find('div', class_=\"num_followers\").text.strip().replace(',', '')\n",
    "    except Exception as e:\n",
    "        return None\n",
    "\n",
    "def find_developer_publisher_details(soup):\n",
    "    \"\"\"Find developer and publisher details and their followers.\"\"\"\n",
    "    try:\n",
    "        divs = soup.find('div', class_=\"glance_ctn_responsive_left\").find_all('div', 'dev_row')\n",
    "        \n",
    "        dev_link, developer = extract_details(divs, 0)\n",
    "        pub_link, publisher = extract_details(divs, 1)\n",
    "\n",
    "        dev_followers = fetch_followers(dev_link)\n",
    "        pub_followers = fetch_followers(pub_link)\n",
    "\n",
    "    except Exception as e:\n",
    "        developer, publisher, dev_followers, pub_followers = None, None, None, None\n",
    "\n",
    "    return developer, publisher, dev_followers, pub_followers\n"
   ]
  },
  {
   "cell_type": "code",
   "execution_count": 17,
   "metadata": {
    "execution": {
     "iopub.execute_input": "2024-10-27T10:24:00.755074Z",
     "iopub.status.busy": "2024-10-27T10:24:00.754532Z",
     "iopub.status.idle": "2024-10-27T10:24:00.761519Z",
     "shell.execute_reply": "2024-10-27T10:24:00.760122Z",
     "shell.execute_reply.started": "2024-10-27T10:24:00.755028Z"
    }
   },
   "outputs": [],
   "source": [
    "def find_price(soup):\n",
    "    # Extract the regular price\n",
    "    try:\n",
    "        price = soup.find('div', class_='game_purchase_price price').text.replace('$', '').replace(',', '').replace('USD', '').strip()\n",
    "    except AttributeError:\n",
    "        price = None\n",
    "\n",
    "    # Extract discount prices\n",
    "    discount_prices = []\n",
    "    try:\n",
    "        discount_divs = soup.find_all('div', class_='discount_final_price')\n",
    "        discount_prices = [dp.text.replace('$', '').replace(',', '').replace('USD', '').strip() for dp in discount_divs]\n",
    "    except Exception as e:\n",
    "        print(f\"Error extracting discount prices: {e}\")\n",
    "\n",
    "    return price, discount_prices if discount_prices else None\n"
   ]
  },
  {
   "cell_type": "code",
   "execution_count": 18,
   "metadata": {
    "execution": {
     "iopub.execute_input": "2024-10-27T10:19:33.237270Z",
     "iopub.status.busy": "2024-10-27T10:19:33.236800Z",
     "iopub.status.idle": "2024-10-27T10:19:33.247941Z",
     "shell.execute_reply": "2024-10-27T10:19:33.246630Z",
     "shell.execute_reply.started": "2024-10-27T10:19:33.237224Z"
    }
   },
   "outputs": [],
   "source": [
    "def find_review_count(soup):\n",
    "    try:\n",
    "        review_div = soup.find_all('span', class_ = \"nonresponsive_hidden responsive_reviewdesc\")\n",
    "        month = review_div[0]\n",
    "        all_time = review_div[1]\n",
    "        \n",
    "        numbers = re.findall(r'\\d{1,3}(?:,\\d{3})*', month.text.strip())        \n",
    "        parsed_numbers = [int(num.replace(',', '')) for num in numbers]\n",
    "        positive_review_ratio_month = parsed_numbers[0] \n",
    "        month_reviews = parsed_numbers[1]          \n",
    "        \n",
    "        numbers = re.findall(r'\\d{1,3}(?:,\\d{3})*', all_time.text.strip())        \n",
    "        parsed_numbers = [int(num.replace(',', '')) for num in numbers]\n",
    "        positive_review_ratio_all_time = parsed_numbers[0] \n",
    "        total_reviews = parsed_numbers[1]\n",
    "        \n",
    "    except Exception as e:\n",
    "        positive_review_ratio_month = None\n",
    "        month_reviews = None\n",
    "        positive_review_ratio_all_time = None\n",
    "        total_reviews = None\n",
    "        \n",
    "    return month_reviews, positive_review_ratio_month, total_reviews, positive_review_ratio_all_time"
   ]
  },
  {
   "cell_type": "code",
   "execution_count": 19,
   "metadata": {
    "execution": {
     "iopub.execute_input": "2024-10-27T10:19:34.056256Z",
     "iopub.status.busy": "2024-10-27T10:19:34.055816Z",
     "iopub.status.idle": "2024-10-27T10:19:34.066569Z",
     "shell.execute_reply": "2024-10-27T10:19:34.065369Z",
     "shell.execute_reply.started": "2024-10-27T10:19:34.056216Z"
    }
   },
   "outputs": [],
   "source": [
    "def find_media_links(soup):\n",
    "    try:\n",
    "        header_url = soup.find('img', class_='game_header_image_full')['src']\n",
    "    except:\n",
    "        header_url = None\n",
    "    try:\n",
    "        image_link = soup.find_all('a', class_='highlight_screenshot_link') \n",
    "        image_url_list = [img['href'] for img in image_link] if image_link else None\n",
    "    except:\n",
    "        image_url_list = None\n",
    "        \n",
    "    try:\n",
    "        image_link_bar = soup.find_all('div', class_='highlight_strip_item highlight_strip_screenshot')\n",
    "        image_small_url_list = [img.find('img')['src'] for img in image_link_bar] if image_link_bar else None\n",
    "    except:\n",
    "        image_small_url_list= None\n",
    "        \n",
    "\n",
    "    video_link = soup.find_all('div', class_='highlight_player_item highlight_movie')\n",
    "    video_urls_hd_list = [v_link['data-mp4-hd-source'] for v_link in video_link] if video_link else None\n",
    "    video_urls_480p_list = [v_link['data-mp4-source'] for v_link in video_link] if video_link else None\n",
    "    \n",
    "    return header_url,image_url_list,image_small_url_list, video_urls_hd_list, video_urls_480p_list"
   ]
  },
  {
   "cell_type": "code",
   "execution_count": 20,
   "metadata": {
    "execution": {
     "iopub.execute_input": "2024-10-27T10:19:34.248939Z",
     "iopub.status.busy": "2024-10-27T10:19:34.248431Z",
     "iopub.status.idle": "2024-10-27T10:19:34.256684Z",
     "shell.execute_reply": "2024-10-27T10:19:34.255140Z",
     "shell.execute_reply.started": "2024-10-27T10:19:34.248891Z"
    }
   },
   "outputs": [],
   "source": [
    "def find_requirements(soup):\n",
    "    try:\n",
    "        lines_platform = soup.find('div', class_='sysreq_tabs')\n",
    "        lines = lines_platform.text.strip(\"'\").strip().split('\\n')\n",
    "        software = [item.strip() for item in lines]\n",
    "    except Exception as e:\n",
    "        software = None\n",
    "        \n",
    "    \n",
    "    return software"
   ]
  },
  {
   "cell_type": "code",
   "execution_count": 21,
   "metadata": {
    "execution": {
     "iopub.execute_input": "2024-10-27T10:19:34.593572Z",
     "iopub.status.busy": "2024-10-27T10:19:34.592253Z",
     "iopub.status.idle": "2024-10-27T10:19:34.599279Z",
     "shell.execute_reply": "2024-10-27T10:19:34.597869Z",
     "shell.execute_reply.started": "2024-10-27T10:19:34.593407Z"
    }
   },
   "outputs": [],
   "source": [
    "def find_languages(soup):\n",
    "    return [td.get_text(strip=True) for td in soup.select(\"td.ellipsis\")]"
   ]
  },
  {
   "cell_type": "code",
   "execution_count": 22,
   "metadata": {
    "execution": {
     "iopub.execute_input": "2024-10-27T10:19:35.056269Z",
     "iopub.status.busy": "2024-10-27T10:19:35.055305Z",
     "iopub.status.idle": "2024-10-27T10:19:35.068392Z",
     "shell.execute_reply": "2024-10-27T10:19:35.067081Z",
     "shell.execute_reply.started": "2024-10-27T10:19:35.056216Z"
    }
   },
   "outputs": [],
   "source": [
    "def extract_data(appid):\n",
    "    \n",
    "    time.sleep(1) \n",
    "    url = f\"https://store.steampowered.com/app/{appid}/\"\n",
    "    soup = get_AppData(url) \n",
    "    \n",
    "    app_id = appid\n",
    "    title, description, content, genre, player, tags_list, release_date = find_general_details(soup)\n",
    "    developer, publisher, dev_followers, pub_followers = find_developer_publisher_details(soup) \n",
    "    price, discount_prices = find_price(soup)\n",
    "    month_reviews, pos_ratio_month, total_reviews, pos_ratio_all = find_review_count(soup)\n",
    "    header_url,image_url_list,image_small_url_list, video_urls_hd_list, video_urls_480p_list = find_media_links(soup)   \n",
    "    software = find_requirements(soup)\n",
    "    languages = find_languages(soup)\n",
    "        \n",
    "    data = {\n",
    "        'app_id': app_id,\n",
    "        'title': title,\n",
    "        'description': description,\n",
    "        'content': content,\n",
    "        'developer': developer,\n",
    "        'publisher': publisher,\n",
    "        'dev_followers':dev_followers,\n",
    "        'pub_followers' : pub_followers,\n",
    "        'genre': genre,\n",
    "        'release_date': release_date,\n",
    "        'price_usd': price,\n",
    "        'discount_price':discount_prices,\n",
    "        'software': software,\n",
    "        'player': player,\n",
    "        'languages' : languages,\n",
    "        'month_reviews': month_reviews,\n",
    "        'positive_ratio_month': pos_ratio_month,  \n",
    "        'total_reviews': total_reviews,\n",
    "        'positive_ratio_all': pos_ratio_all,\n",
    "        'tags_list': tags_list,\n",
    "        'header_url': header_url,\n",
    "        'image_url_list': image_url_list,\n",
    "        'image_small_url_list': image_small_url_list,\n",
    "        'video_urls_hd_list': video_urls_hd_list,\n",
    "        'video_urls_480p_list': video_urls_480p_list\n",
    "    }\n",
    "\n",
    "    \n",
    "    return data\n",
    "    \n",
    "    \n"
   ]
  },
  {
   "cell_type": "code",
   "execution_count": 23,
   "metadata": {
    "scrolled": false
   },
   "outputs": [],
   "source": [
    "#test_id = ['2878980', '10', '1293830', '306130']\n",
    "# for i in test_id:\n",
    "#     display(extract_data(i))"
   ]
  },
  {
   "cell_type": "code",
   "execution_count": null,
   "metadata": {
    "execution": {
     "iopub.execute_input": "2024-10-27T09:48:29.418621Z",
     "iopub.status.busy": "2024-10-27T09:48:29.418165Z",
     "iopub.status.idle": "2024-10-27T10:04:05.008894Z",
     "shell.execute_reply": "2024-10-27T10:04:05.007139Z",
     "shell.execute_reply.started": "2024-10-27T09:48:29.418564Z"
    },
    "scrolled": false
   },
   "outputs": [
    {
     "name": "stderr",
     "output_type": "stream",
     "text": [
      "Processing Batch 1:   8%|█████                                                       | 84/1000 [01:22<12:05,  1.26it/s]"
     ]
    }
   ],
   "source": [
    "def save_batch_to_csv(batch_number, df):\n",
    "    os.makedirs('scraped_data_1', exist_ok=True)\n",
    "    file_path = f'scraped_data_1/steam_games_data_batch_{batch_number}.csv'\n",
    "    df.to_csv(file_path, index=False)\n",
    "    print(f\"Batch {batch_number} saved successfully to {file_path}\")\n",
    "\n",
    "def process_batch(batch_number, app_ids):\n",
    "    list_of_data = []\n",
    "\n",
    "    with ThreadPoolExecutor(max_workers=10) as executor:\n",
    "        futures = [executor.submit(extract_data, app_id) for app_id in app_ids]\n",
    "        for future in tqdm(as_completed(futures), total=len(futures), desc=f\"Processing Batch {batch_number}\"):\n",
    "            list_of_data.append(future.result())\n",
    "\n",
    "    df_scraped = pd.DataFrame(list_of_data)\n",
    "    save_batch_to_csv(batch_number, df_scraped)\n",
    "def count_files(dir_path):\n",
    "    file_count = 0\n",
    "    for path in os.listdir(dir_path):\n",
    "        if os.path.isfile(os.path.join(dir_path, path)):\n",
    "            file_count += 1\n",
    "    return file_count\n",
    "\n",
    "starting_batch = count_files('./scraped_data_1')\n",
    "batch_size = 1000\n",
    "a = starting_batch * batch_size  \n",
    "b = len(app_ids_df)\n",
    "\n",
    "for batch_start in range(a, b, batch_size):\n",
    "    batch_number = batch_start // batch_size\n",
    "    ids = app_ids_df['appid'][batch_start:batch_start + batch_size].to_list()\n",
    "    process_batch(batch_number, ids)\n"
   ]
  },
  {
   "cell_type": "code",
   "execution_count": null,
   "metadata": {},
   "outputs": [],
   "source": []
  },
  {
   "cell_type": "code",
   "execution_count": null,
   "metadata": {},
   "outputs": [],
   "source": [
    "url = \"https://store.steampowered.com/charts/topselling/global\" \n",
    "driver = webdriver.Chrome(service=Service(ChromeDriverManager().install()))\n",
    "driver.get(url) \n"
   ]
  },
  {
   "cell_type": "code",
   "execution_count": null,
   "metadata": {},
   "outputs": [],
   "source": [
    "tbody_element = driver.find_element(By.TAG_NAME, \"tbody\")\n",
    "tbody_html = tbody_element.get_attribute(\"outerHTML\")\n",
    "soup = BeautifulSoup(tbody_html, 'lxml')"
   ]
  },
  {
   "cell_type": "code",
   "execution_count": null,
   "metadata": {},
   "outputs": [],
   "source": [
    "app_ids = []\n",
    "ranks = []\n",
    "urls = []\n",
    "\n",
    "# Loop through each row in the <tbody> tag\n",
    "for row in soup.find_all('tr', class_=\"_2-RN6nWOY56sNmcDHu069P\"):\n",
    "    # Extract the rank\n",
    "    rank = row.find('td', class_=\"_34h48M_x9S-9Q2FFPX_CcU\").get_text(strip=True)\n",
    "    ranks.append(rank)\n",
    "    \n",
    "    # Extract the URL and app id\n",
    "    link = row.find('a', class_=\"_2C5PJOUH6RqyuBNEwaCE9X\")\n",
    "    if link:\n",
    "        url = link['href']\n",
    "        urls.append(url)\n",
    "        \n",
    "        # Extract app id from the URL using regex\n",
    "        app_id = re.search(r'/app/(\\d+)/', url)\n",
    "        app_ids.append(app_id.group(1) if app_id else None)\n",
    "\n",
    "# Create a DataFrame\n",
    "df_top_100 = pd.DataFrame({\n",
    "    'appid': app_ids,\n",
    "    'rank': ranks,\n",
    "    'url': urls\n",
    "})\n",
    "\n",
    "# Save the DataFrame to a CSV file\n",
    "df_top_100.to_csv(\"top_100_games.csv\", index=False)\n",
    "\n",
    "print(\"Data saved to top_100_games.csv\")"
   ]
  },
  {
   "cell_type": "code",
   "execution_count": null,
   "metadata": {
    "scrolled": true
   },
   "outputs": [],
   "source": [
    "df_top_100.tail()"
   ]
  },
  {
   "cell_type": "code",
   "execution_count": null,
   "metadata": {
    "execution": {
     "iopub.status.busy": "2024-10-27T10:04:05.010128Z",
     "iopub.status.idle": "2024-10-27T10:04:05.010584Z",
     "shell.execute_reply": "2024-10-27T10:04:05.010367Z",
     "shell.execute_reply.started": "2024-10-27T10:04:05.010346Z"
    }
   },
   "outputs": [],
   "source": [
    "df_100 = pd.read_csv('top_100_games.csv')"
   ]
  },
  {
   "cell_type": "code",
   "execution_count": null,
   "metadata": {
    "execution": {
     "iopub.status.busy": "2024-10-27T10:04:05.012431Z",
     "iopub.status.idle": "2024-10-27T10:04:05.012914Z",
     "shell.execute_reply": "2024-10-27T10:04:05.012723Z",
     "shell.execute_reply.started": "2024-10-27T10:04:05.012697Z"
    }
   },
   "outputs": [],
   "source": [
    "df1_unique = app_ids_df.drop_duplicates(subset='appid')\n",
    "df2_unique = df_100.drop_duplicates(subset='appid')\n",
    "common_apps = pd.merge(df1_unique, df2_unique, on='appid', how='inner').sort_values(by='rank', ascending=True) "
   ]
  },
  {
   "cell_type": "code",
   "execution_count": null,
   "metadata": {
    "execution": {
     "iopub.status.busy": "2024-10-27T10:04:05.014680Z",
     "iopub.status.idle": "2024-10-27T10:04:05.015084Z",
     "shell.execute_reply": "2024-10-27T10:04:05.014902Z",
     "shell.execute_reply.started": "2024-10-27T10:04:05.014881Z"
    }
   },
   "outputs": [],
   "source": [
    "common_apps"
   ]
  },
  {
   "cell_type": "code",
   "execution_count": null,
   "metadata": {},
   "outputs": [],
   "source": []
  }
 ],
 "metadata": {
  "kaggle": {
   "accelerator": "none",
   "dataSources": [
    {
     "datasetId": 5956909,
     "sourceId": 9733603,
     "sourceType": "datasetVersion"
    },
    {
     "datasetId": 5957106,
     "sourceId": 9733864,
     "sourceType": "datasetVersion"
    }
   ],
   "dockerImageVersionId": 30786,
   "isGpuEnabled": false,
   "isInternetEnabled": true,
   "language": "python",
   "sourceType": "notebook"
  },
  "kernelspec": {
   "display_name": "base",
   "language": "python",
   "name": "python3"
  },
  "language_info": {
   "codemirror_mode": {
    "name": "ipython",
    "version": 3
   },
   "file_extension": ".py",
   "mimetype": "text/x-python",
   "name": "python",
   "nbconvert_exporter": "python",
   "pygments_lexer": "ipython3",
   "version": "3.9.13"
  }
 },
 "nbformat": 4,
 "nbformat_minor": 4
}
